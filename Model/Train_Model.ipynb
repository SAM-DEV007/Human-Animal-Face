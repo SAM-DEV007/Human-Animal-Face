{
 "cells": [
  {
   "cell_type": "code",
   "execution_count": 13,
   "id": "2ac7bfb5-bacc-4aa6-9223-1510b2df903b",
   "metadata": {},
   "outputs": [],
   "source": [
    "import tensorflow as tf\n",
    "\n",
    "from pathlib import Path\n",
    "from keras import layers, Sequential, backend\n",
    "from keras.utils import layer_utils\n",
    "from keras.models import load_model"
   ]
  },
  {
   "cell_type": "code",
   "execution_count": 2,
   "id": "46b39e04-d46e-45d3-97b3-a3b07f8b21d8",
   "metadata": {},
   "outputs": [],
   "source": [
    "def VGG16():\n",
    "    input_shape = (224, 224, 3)\n",
    "    \n",
    "    model = Sequential(\n",
    "        [\n",
    "            layers.Input(shape=input_shape),\n",
    "            \n",
    "            layers.Conv2D(filters=64, kernel_size=(3,3), padding=\"same\", activation=\"relu\", trainable=False),\n",
    "            layers.Conv2D(filters=64, kernel_size=(3,3), padding=\"same\", activation=\"relu\", trainable=False),\n",
    "            layers.MaxPool2D(pool_size=(2,2), strides=(2,2), trainable=False),\n",
    "\n",
    "            layers.Conv2D(filters=128, kernel_size=(3,3), padding=\"same\", activation=\"relu\", trainable=False),\n",
    "            layers.Conv2D(filters=128, kernel_size=(3,3), padding=\"same\", activation=\"relu\", trainable=False),\n",
    "            layers.MaxPool2D(pool_size=(2,2), strides=(2,2), trainable=False),\n",
    "\n",
    "            layers.Conv2D(filters=256, kernel_size=(3,3), padding=\"same\", activation=\"relu\", trainable=False),\n",
    "            layers.Conv2D(filters=256, kernel_size=(3,3), padding=\"same\", activation=\"relu\", trainable=False),\n",
    "            layers.Conv2D(filters=256, kernel_size=(3,3), padding=\"same\", activation=\"relu\", trainable=False),\n",
    "            layers.MaxPool2D(pool_size=(2,2), strides=(2,2), trainable=False),\n",
    "\n",
    "            layers.Conv2D(filters=512, kernel_size=(3,3), padding=\"same\", activation=\"relu\", trainable=False),\n",
    "            layers.Conv2D(filters=512, kernel_size=(3,3), padding=\"same\", activation=\"relu\", trainable=False),\n",
    "            layers.Conv2D(filters=512, kernel_size=(3,3), padding=\"same\", activation=\"relu\", trainable=False),\n",
    "            layers.MaxPool2D(pool_size=(2,2), strides=(2,2), trainable=False),\n",
    "\n",
    "            layers.Conv2D(filters=512, kernel_size=(3,3), padding=\"same\", activation=\"relu\", trainable=False),\n",
    "            layers.Conv2D(filters=512, kernel_size=(3,3), padding=\"same\", activation=\"relu\", trainable=False),\n",
    "            layers.Conv2D(filters=512, kernel_size=(3,3), padding=\"same\", activation=\"relu\", trainable=False),\n",
    "            layers.MaxPool2D(pool_size=(2,2), strides=(2,2), name='vgg16', trainable=False),\n",
    "        ]\n",
    "    )\n",
    "\n",
    "    weights_path = str(Path.cwd()) + r\"\\Model_Data\\vgg16_weights_tf_dim_ordering_tf_kernels_notop.h5\"\n",
    "    model.load_weights(weights_path)\n",
    "\n",
    "    if backend.backend() == 'theano':\n",
    "        layer_utils.convert_all_kernels_in_model(model)\n",
    "\n",
    "    data_augmentation = Sequential(\n",
    "        [\n",
    "            layers.RandomFlip(\"horizontal\"),\n",
    "            layers.RandomRotation(0.1),\n",
    "            layers.RandomZoom(0.1),\n",
    "        ]\n",
    "    )\n",
    "    \n",
    "    preprocess_input = tf.keras.applications.vgg16.preprocess_input\n",
    "    global_average_layer = layers.GlobalAveragePooling2D()\n",
    "    prediction_layer = tf.keras.layers.Dense(15, activation='softmax')\n",
    "    \n",
    "    inputs = tf.keras.Input(shape=(224, 224, 3))\n",
    "    x = data_augmentation(inputs)\n",
    "    x = preprocess_input(x)\n",
    "    x = model(x)\n",
    "    x = global_average_layer(x)\n",
    "    x = layers.Dropout(0.2)(x)\n",
    "    outputs = prediction_layer(x)\n",
    "        \n",
    "    model = tf.keras.Model(inputs, outputs)\n",
    "\n",
    "    return model"
   ]
  },
  {
   "cell_type": "code",
   "execution_count": 3,
   "id": "44ae7b98-e2d5-428b-819e-e0e81b50a4c1",
   "metadata": {},
   "outputs": [],
   "source": [
    "model = VGG16()"
   ]
  },
  {
   "cell_type": "code",
   "execution_count": 4,
   "id": "ca4983a8-2e0c-4333-8899-642d9f50fee5",
   "metadata": {},
   "outputs": [
    {
     "name": "stdout",
     "output_type": "stream",
     "text": [
      "Model: \"model\"\n",
      "_________________________________________________________________\n",
      " Layer (type)                Output Shape              Param #   \n",
      "=================================================================\n",
      " input_2 (InputLayer)        [(None, 224, 224, 3)]     0         \n",
      "                                                                 \n",
      " sequential_1 (Sequential)   (None, 224, 224, 3)       0         \n",
      "                                                                 \n",
      " tf.__operators__.getitem (S  (None, 224, 224, 3)      0         \n",
      " licingOpLambda)                                                 \n",
      "                                                                 \n",
      " tf.nn.bias_add (TFOpLambda)  (None, 224, 224, 3)      0         \n",
      "                                                                 \n",
      " sequential (Sequential)     (None, 7, 7, 512)         14714688  \n",
      "                                                                 \n",
      " global_average_pooling2d (G  (None, 512)              0         \n",
      " lobalAveragePooling2D)                                          \n",
      "                                                                 \n",
      " dropout (Dropout)           (None, 512)               0         \n",
      "                                                                 \n",
      " dense (Dense)               (None, 15)                7695      \n",
      "                                                                 \n",
      "=================================================================\n",
      "Total params: 14,722,383\n",
      "Trainable params: 7,695\n",
      "Non-trainable params: 14,714,688\n",
      "_________________________________________________________________\n"
     ]
    }
   ],
   "source": [
    "model.compile(optimizer=tf.keras.optimizers.Adam(learning_rate=0.0001),\n",
    "              loss=tf.keras.losses.SparseCategoricalCrossentropy(),\n",
    "              metrics=['accuracy'])\n",
    "              \n",
    "model.summary()"
   ]
  },
  {
   "cell_type": "code",
   "execution_count": 5,
   "id": "bf5191b1-7fd2-4df1-b436-6a9858fd68fa",
   "metadata": {},
   "outputs": [],
   "source": [
    "train_dir = str(Path.cwd()) + r\"\\Dataset\\train\"\n",
    "validation_dir = str(Path.cwd()) + r\"\\Dataset\\test\"\n",
    "\n",
    "model_save = str(Path.cwd()) + r\"\\Model_Data\\Model.h5\""
   ]
  },
  {
   "cell_type": "code",
   "execution_count": 6,
   "id": "a6beac78-0499-480a-85c5-5acaa7600784",
   "metadata": {},
   "outputs": [],
   "source": [
    "batch = 64\n",
    "img_size = (224, 224)\n",
    "\n",
    "autotune = tf.data.AUTOTUNE"
   ]
  },
  {
   "cell_type": "code",
   "execution_count": 7,
   "id": "c9450a46-f118-4cd6-a697-47cf916c3df8",
   "metadata": {},
   "outputs": [
    {
     "name": "stdout",
     "output_type": "stream",
     "text": [
      "Found 27494 files belonging to 15 classes.\n",
      "Found 3725 files belonging to 15 classes.\n"
     ]
    }
   ],
   "source": [
    "train_dataset = tf.keras.utils.image_dataset_from_directory(train_dir, labels='inferred', label_mode='int', shuffle=True, batch_size=batch, image_size=img_size)\n",
    "validation_dataset = tf.keras.utils.image_dataset_from_directory(validation_dir, labels='inferred', label_mode='int', shuffle=True, batch_size=batch, image_size=img_size)"
   ]
  },
  {
   "cell_type": "code",
   "execution_count": 8,
   "id": "c26616d2-d925-4cd3-9911-05fdc0b52520",
   "metadata": {},
   "outputs": [],
   "source": [
    "val_batches = tf.data.experimental.cardinality(validation_dataset)\n",
    "test_dataset = validation_dataset.take(val_batches // 5)\n",
    "validation_dataset = validation_dataset.skip(val_batches // 5)\n",
    "\n",
    "train_dataset = train_dataset.prefetch(buffer_size=autotune)\n",
    "validation_dataset = validation_dataset.prefetch(buffer_size=autotune)\n",
    "test_dataset = test_dataset.prefetch(buffer_size=autotune)"
   ]
  },
  {
   "cell_type": "code",
   "execution_count": 9,
   "id": "41b10569-501b-4c53-85f1-5fcb9eb0a891",
   "metadata": {},
   "outputs": [],
   "source": [
    "cp_callback = tf.keras.callbacks.ModelCheckpoint(model_save, verbose=1, monitor='val_accuracy', mode='max', save_best_only=True)\n",
    "es_callback = tf.keras.callbacks.EarlyStopping(patience=3, verbose=1)"
   ]
  },
  {
   "cell_type": "code",
   "execution_count": 11,
   "id": "9e49be74-05ee-48c6-8bb3-4fe2fe82a477",
   "metadata": {
    "scrolled": true
   },
   "outputs": [
    {
     "name": "stdout",
     "output_type": "stream",
     "text": [
      "Epoch 1/1000\n",
      "430/430 [==============================] - ETA: 0s - loss: 5.8481 - accuracy: 0.2085\n",
      "Epoch 1: val_accuracy improved from -inf to 0.45680, saving model to D:\\Projects\\Human_Animal_Face\\Model\\Model_Data\\Model.h5\n",
      "430/430 [==============================] - 291s 648ms/step - loss: 5.8481 - accuracy: 0.2085 - val_loss: 2.8328 - val_accuracy: 0.4568\n",
      "Epoch 2/1000\n",
      "430/430 [==============================] - ETA: 0s - loss: 2.7617 - accuracy: 0.4578\n",
      "Epoch 2: val_accuracy improved from 0.45680 to 0.69613, saving model to D:\\Projects\\Human_Animal_Face\\Model\\Model_Data\\Model.h5\n",
      "430/430 [==============================] - 270s 626ms/step - loss: 2.7617 - accuracy: 0.4578 - val_loss: 1.3046 - val_accuracy: 0.6961\n",
      "Epoch 3/1000\n",
      "430/430 [==============================] - ETA: 0s - loss: 1.8878 - accuracy: 0.5895\n",
      "Epoch 3: val_accuracy improved from 0.69613 to 0.79113, saving model to D:\\Projects\\Human_Animal_Face\\Model\\Model_Data\\Model.h5\n",
      "430/430 [==============================] - 269s 625ms/step - loss: 1.8878 - accuracy: 0.5895 - val_loss: 0.8620 - val_accuracy: 0.7911\n",
      "Epoch 4/1000\n",
      "430/430 [==============================] - ETA: 0s - loss: 1.4080 - accuracy: 0.6741\n",
      "Epoch 4: val_accuracy improved from 0.79113 to 0.84177, saving model to D:\\Projects\\Human_Animal_Face\\Model\\Model_Data\\Model.h5\n",
      "430/430 [==============================] - 269s 625ms/step - loss: 1.4080 - accuracy: 0.6741 - val_loss: 0.6597 - val_accuracy: 0.8418\n",
      "Epoch 5/1000\n",
      "430/430 [==============================] - ETA: 0s - loss: 1.1844 - accuracy: 0.7165\n",
      "Epoch 5: val_accuracy improved from 0.84177 to 0.87190, saving model to D:\\Projects\\Human_Animal_Face\\Model\\Model_Data\\Model.h5\n",
      "430/430 [==============================] - 269s 625ms/step - loss: 1.1844 - accuracy: 0.7165 - val_loss: 0.5452 - val_accuracy: 0.8719\n",
      "Epoch 6/1000\n",
      "430/430 [==============================] - ETA: 0s - loss: 1.0030 - accuracy: 0.7543\n",
      "Epoch 6: val_accuracy improved from 0.87190 to 0.88580, saving model to D:\\Projects\\Human_Animal_Face\\Model\\Model_Data\\Model.h5\n",
      "430/430 [==============================] - 269s 624ms/step - loss: 1.0030 - accuracy: 0.7543 - val_loss: 0.4758 - val_accuracy: 0.8858\n",
      "Epoch 7/1000\n",
      "430/430 [==============================] - ETA: 0s - loss: 0.9002 - accuracy: 0.7755\n",
      "Epoch 7: val_accuracy improved from 0.88580 to 0.89242, saving model to D:\\Projects\\Human_Animal_Face\\Model\\Model_Data\\Model.h5\n",
      "430/430 [==============================] - 469s 1s/step - loss: 0.9002 - accuracy: 0.7755 - val_loss: 0.4339 - val_accuracy: 0.8924\n",
      "Epoch 8/1000\n",
      "430/430 [==============================] - ETA: 0s - loss: 0.8197 - accuracy: 0.7930\n",
      "Epoch 8: val_accuracy improved from 0.89242 to 0.89970, saving model to D:\\Projects\\Human_Animal_Face\\Model\\Model_Data\\Model.h5\n",
      "430/430 [==============================] - 269s 625ms/step - loss: 0.8197 - accuracy: 0.7930 - val_loss: 0.3989 - val_accuracy: 0.8997\n",
      "Epoch 9/1000\n",
      "430/430 [==============================] - ETA: 0s - loss: 0.7500 - accuracy: 0.8075\n",
      "Epoch 9: val_accuracy improved from 0.89970 to 0.90665, saving model to D:\\Projects\\Human_Animal_Face\\Model\\Model_Data\\Model.h5\n",
      "430/430 [==============================] - 269s 625ms/step - loss: 0.7500 - accuracy: 0.8075 - val_loss: 0.3769 - val_accuracy: 0.9067\n",
      "Epoch 10/1000\n",
      "430/430 [==============================] - ETA: 0s - loss: 0.6874 - accuracy: 0.8195\n",
      "Epoch 10: val_accuracy improved from 0.90665 to 0.91129, saving model to D:\\Projects\\Human_Animal_Face\\Model\\Model_Data\\Model.h5\n",
      "430/430 [==============================] - 269s 624ms/step - loss: 0.6874 - accuracy: 0.8195 - val_loss: 0.3508 - val_accuracy: 0.9113\n",
      "Epoch 11/1000\n",
      "430/430 [==============================] - ETA: 0s - loss: 0.6494 - accuracy: 0.8270\n",
      "Epoch 11: val_accuracy improved from 0.91129 to 0.91559, saving model to D:\\Projects\\Human_Animal_Face\\Model\\Model_Data\\Model.h5\n",
      "430/430 [==============================] - 272s 630ms/step - loss: 0.6494 - accuracy: 0.8270 - val_loss: 0.3233 - val_accuracy: 0.9156\n",
      "Epoch 12/1000\n",
      "430/430 [==============================] - ETA: 0s - loss: 0.6072 - accuracy: 0.8365\n",
      "Epoch 12: val_accuracy improved from 0.91559 to 0.91592, saving model to D:\\Projects\\Human_Animal_Face\\Model\\Model_Data\\Model.h5\n",
      "430/430 [==============================] - 271s 630ms/step - loss: 0.6072 - accuracy: 0.8365 - val_loss: 0.3262 - val_accuracy: 0.9159\n",
      "Epoch 13/1000\n",
      "430/430 [==============================] - ETA: 0s - loss: 0.5687 - accuracy: 0.8439\n",
      "Epoch 13: val_accuracy improved from 0.91592 to 0.92155, saving model to D:\\Projects\\Human_Animal_Face\\Model\\Model_Data\\Model.h5\n",
      "430/430 [==============================] - 270s 627ms/step - loss: 0.5687 - accuracy: 0.8439 - val_loss: 0.2935 - val_accuracy: 0.9215\n",
      "Epoch 14/1000\n",
      "430/430 [==============================] - ETA: 0s - loss: 0.5472 - accuracy: 0.8486\n",
      "Epoch 14: val_accuracy improved from 0.92155 to 0.92585, saving model to D:\\Projects\\Human_Animal_Face\\Model\\Model_Data\\Model.h5\n",
      "430/430 [==============================] - 269s 624ms/step - loss: 0.5472 - accuracy: 0.8486 - val_loss: 0.2802 - val_accuracy: 0.9259\n",
      "Epoch 15/1000\n",
      "430/430 [==============================] - ETA: 0s - loss: 0.5256 - accuracy: 0.8535\n",
      "Epoch 15: val_accuracy did not improve from 0.92585\n",
      "430/430 [==============================] - 270s 628ms/step - loss: 0.5256 - accuracy: 0.8535 - val_loss: 0.2822 - val_accuracy: 0.9259\n",
      "Epoch 16/1000\n",
      "430/430 [==============================] - ETA: 0s - loss: 0.5033 - accuracy: 0.8582\n",
      "Epoch 16: val_accuracy improved from 0.92585 to 0.92718, saving model to D:\\Projects\\Human_Animal_Face\\Model\\Model_Data\\Model.h5\n",
      "430/430 [==============================] - 272s 630ms/step - loss: 0.5033 - accuracy: 0.8582 - val_loss: 0.2655 - val_accuracy: 0.9272\n",
      "Epoch 17/1000\n",
      "430/430 [==============================] - ETA: 0s - loss: 0.4954 - accuracy: 0.8618\n",
      "Epoch 17: val_accuracy improved from 0.92718 to 0.93115, saving model to D:\\Projects\\Human_Animal_Face\\Model\\Model_Data\\Model.h5\n",
      "430/430 [==============================] - 271s 629ms/step - loss: 0.4954 - accuracy: 0.8618 - val_loss: 0.2594 - val_accuracy: 0.9311\n",
      "Epoch 18/1000\n",
      "430/430 [==============================] - ETA: 0s - loss: 0.4687 - accuracy: 0.8666\n",
      "Epoch 18: val_accuracy did not improve from 0.93115\n",
      "430/430 [==============================] - 272s 631ms/step - loss: 0.4687 - accuracy: 0.8666 - val_loss: 0.2634 - val_accuracy: 0.9298\n",
      "Epoch 19/1000\n",
      "430/430 [==============================] - ETA: 0s - loss: 0.4545 - accuracy: 0.8698\n",
      "Epoch 19: val_accuracy improved from 0.93115 to 0.93313, saving model to D:\\Projects\\Human_Animal_Face\\Model\\Model_Data\\Model.h5\n",
      "430/430 [==============================] - 272s 631ms/step - loss: 0.4545 - accuracy: 0.8698 - val_loss: 0.2480 - val_accuracy: 0.9331\n",
      "Epoch 20/1000\n",
      "430/430 [==============================] - ETA: 0s - loss: 0.4382 - accuracy: 0.8733\n",
      "Epoch 20: val_accuracy did not improve from 0.93313\n",
      "430/430 [==============================] - 271s 629ms/step - loss: 0.4382 - accuracy: 0.8733 - val_loss: 0.2530 - val_accuracy: 0.9325\n",
      "Epoch 21/1000\n",
      "430/430 [==============================] - ETA: 0s - loss: 0.4306 - accuracy: 0.8748\n",
      "Epoch 21: val_accuracy improved from 0.93313 to 0.93446, saving model to D:\\Projects\\Human_Animal_Face\\Model\\Model_Data\\Model.h5\n",
      "430/430 [==============================] - 291s 676ms/step - loss: 0.4306 - accuracy: 0.8748 - val_loss: 0.2402 - val_accuracy: 0.9345\n",
      "Epoch 22/1000\n",
      "430/430 [==============================] - ETA: 0s - loss: 0.4194 - accuracy: 0.8763\n",
      "Epoch 22: val_accuracy improved from 0.93446 to 0.93810, saving model to D:\\Projects\\Human_Animal_Face\\Model\\Model_Data\\Model.h5\n",
      "430/430 [==============================] - 271s 628ms/step - loss: 0.4194 - accuracy: 0.8763 - val_loss: 0.2400 - val_accuracy: 0.9381\n",
      "Epoch 23/1000\n",
      "430/430 [==============================] - ETA: 0s - loss: 0.4079 - accuracy: 0.8790\n",
      "Epoch 23: val_accuracy did not improve from 0.93810\n",
      "430/430 [==============================] - 271s 629ms/step - loss: 0.4079 - accuracy: 0.8790 - val_loss: 0.2347 - val_accuracy: 0.9355\n",
      "Epoch 24/1000\n",
      "430/430 [==============================] - ETA: 0s - loss: 0.3975 - accuracy: 0.8822\n",
      "Epoch 24: val_accuracy did not improve from 0.93810\n",
      "430/430 [==============================] - 272s 631ms/step - loss: 0.3975 - accuracy: 0.8822 - val_loss: 0.2282 - val_accuracy: 0.9374\n",
      "Epoch 25/1000\n",
      "430/430 [==============================] - ETA: 0s - loss: 0.3857 - accuracy: 0.8836\n",
      "Epoch 25: val_accuracy did not improve from 0.93810\n",
      "430/430 [==============================] - 271s 629ms/step - loss: 0.3857 - accuracy: 0.8836 - val_loss: 0.2230 - val_accuracy: 0.9378\n",
      "Epoch 26/1000\n",
      "430/430 [==============================] - ETA: 0s - loss: 0.3847 - accuracy: 0.8841\n",
      "Epoch 26: val_accuracy improved from 0.93810 to 0.93843, saving model to D:\\Projects\\Human_Animal_Face\\Model\\Model_Data\\Model.h5\n",
      "430/430 [==============================] - 270s 627ms/step - loss: 0.3847 - accuracy: 0.8841 - val_loss: 0.2253 - val_accuracy: 0.9384\n",
      "Epoch 27/1000\n",
      "430/430 [==============================] - ETA: 0s - loss: 0.3664 - accuracy: 0.8881\n",
      "Epoch 27: val_accuracy improved from 0.93843 to 0.93876, saving model to D:\\Projects\\Human_Animal_Face\\Model\\Model_Data\\Model.h5\n",
      "430/430 [==============================] - 270s 626ms/step - loss: 0.3664 - accuracy: 0.8881 - val_loss: 0.2326 - val_accuracy: 0.9388\n",
      "Epoch 28/1000\n",
      "430/430 [==============================] - ETA: 0s - loss: 0.3732 - accuracy: 0.8881\n",
      "Epoch 28: val_accuracy improved from 0.93876 to 0.94141, saving model to D:\\Projects\\Human_Animal_Face\\Model\\Model_Data\\Model.h5\n",
      "430/430 [==============================] - 427s 993ms/step - loss: 0.3732 - accuracy: 0.8881 - val_loss: 0.2186 - val_accuracy: 0.9414\n",
      "Epoch 29/1000\n",
      "430/430 [==============================] - ETA: 0s - loss: 0.3595 - accuracy: 0.8894\n",
      "Epoch 29: val_accuracy did not improve from 0.94141\n",
      "430/430 [==============================] - 576s 1s/step - loss: 0.3595 - accuracy: 0.8894 - val_loss: 0.2228 - val_accuracy: 0.9378\n",
      "Epoch 30/1000\n",
      "430/430 [==============================] - ETA: 0s - loss: 0.3634 - accuracy: 0.8904\n",
      "Epoch 30: val_accuracy did not improve from 0.94141\n",
      "430/430 [==============================] - 609s 1s/step - loss: 0.3634 - accuracy: 0.8904 - val_loss: 0.2091 - val_accuracy: 0.9411\n",
      "Epoch 31/1000\n",
      "430/430 [==============================] - ETA: 0s - loss: 0.3555 - accuracy: 0.8908\n",
      "Epoch 31: val_accuracy improved from 0.94141 to 0.94307, saving model to D:\\Projects\\Human_Animal_Face\\Model\\Model_Data\\Model.h5\n",
      "430/430 [==============================] - 341s 789ms/step - loss: 0.3555 - accuracy: 0.8908 - val_loss: 0.2019 - val_accuracy: 0.9431\n",
      "Epoch 32/1000\n",
      "430/430 [==============================] - ETA: 0s - loss: 0.3494 - accuracy: 0.8922\n",
      "Epoch 32: val_accuracy did not improve from 0.94307\n",
      "430/430 [==============================] - 271s 629ms/step - loss: 0.3494 - accuracy: 0.8922 - val_loss: 0.2049 - val_accuracy: 0.9401\n",
      "Epoch 33/1000\n",
      "430/430 [==============================] - ETA: 0s - loss: 0.3452 - accuracy: 0.8935\n",
      "Epoch 33: val_accuracy did not improve from 0.94307\n",
      "430/430 [==============================] - 271s 630ms/step - loss: 0.3452 - accuracy: 0.8935 - val_loss: 0.2086 - val_accuracy: 0.9404\n",
      "Epoch 34/1000\n",
      "430/430 [==============================] - ETA: 0s - loss: 0.3443 - accuracy: 0.8917\n",
      "Epoch 34: val_accuracy did not improve from 0.94307\n",
      "430/430 [==============================] - 273s 633ms/step - loss: 0.3443 - accuracy: 0.8917 - val_loss: 0.2007 - val_accuracy: 0.9407\n",
      "Epoch 35/1000\n",
      "430/430 [==============================] - ETA: 0s - loss: 0.3368 - accuracy: 0.8940\n",
      "Epoch 35: val_accuracy did not improve from 0.94307\n",
      "430/430 [==============================] - 271s 629ms/step - loss: 0.3368 - accuracy: 0.8940 - val_loss: 0.1924 - val_accuracy: 0.9424\n",
      "Epoch 36/1000\n",
      "430/430 [==============================] - ETA: 0s - loss: 0.3359 - accuracy: 0.8956\n",
      "Epoch 36: val_accuracy did not improve from 0.94307\n",
      "430/430 [==============================] - 271s 629ms/step - loss: 0.3359 - accuracy: 0.8956 - val_loss: 0.1931 - val_accuracy: 0.9404\n",
      "Epoch 37/1000\n",
      "430/430 [==============================] - ETA: 0s - loss: 0.3369 - accuracy: 0.8940\n",
      "Epoch 37: val_accuracy did not improve from 0.94307\n",
      "430/430 [==============================] - 271s 628ms/step - loss: 0.3369 - accuracy: 0.8940 - val_loss: 0.1894 - val_accuracy: 0.9431\n",
      "Epoch 38/1000\n",
      "430/430 [==============================] - ETA: 0s - loss: 0.3293 - accuracy: 0.8958\n",
      "Epoch 38: val_accuracy did not improve from 0.94307\n",
      "430/430 [==============================] - 270s 626ms/step - loss: 0.3293 - accuracy: 0.8958 - val_loss: 0.1962 - val_accuracy: 0.9407\n",
      "Epoch 39/1000\n",
      "430/430 [==============================] - ETA: 0s - loss: 0.3306 - accuracy: 0.8970\n",
      "Epoch 39: val_accuracy did not improve from 0.94307\n",
      "430/430 [==============================] - 271s 628ms/step - loss: 0.3306 - accuracy: 0.8970 - val_loss: 0.1992 - val_accuracy: 0.9411\n",
      "Epoch 40/1000\n",
      "430/430 [==============================] - ETA: 0s - loss: 0.3258 - accuracy: 0.8959\n",
      "Epoch 40: val_accuracy improved from 0.94307 to 0.94406, saving model to D:\\Projects\\Human_Animal_Face\\Model\\Model_Data\\Model.h5\n",
      "430/430 [==============================] - 270s 628ms/step - loss: 0.3258 - accuracy: 0.8959 - val_loss: 0.1912 - val_accuracy: 0.9441\n",
      "Epoch 40: early stopping\n"
     ]
    },
    {
     "data": {
      "text/plain": [
       "<keras.callbacks.History at 0x13197aca940>"
      ]
     },
     "execution_count": 11,
     "metadata": {},
     "output_type": "execute_result"
    }
   ],
   "source": [
    "model.fit(train_dataset, epochs=1000, validation_data=validation_dataset, callbacks=[cp_callback, es_callback])"
   ]
  },
  {
   "cell_type": "code",
   "execution_count": 14,
   "id": "600c8404-bb63-4311-bdc3-8fbb7b45d9bd",
   "metadata": {},
   "outputs": [],
   "source": [
    "model = load_model(model_save)"
   ]
  },
  {
   "cell_type": "code",
   "execution_count": 15,
   "id": "70fd82b8-a5c5-46c8-afb7-2982a9b6515c",
   "metadata": {},
   "outputs": [
    {
     "name": "stdout",
     "output_type": "stream",
     "text": [
      "48/48 [==============================] - 27s 532ms/step - loss: 0.1980 - accuracy: 0.9407\n"
     ]
    },
    {
     "data": {
      "text/plain": [
       "[0.19803258776664734, 0.9407480955123901]"
      ]
     },
     "execution_count": 15,
     "metadata": {},
     "output_type": "execute_result"
    }
   ],
   "source": [
    "model.evaluate(validation_dataset)"
   ]
  }
 ],
 "metadata": {
  "kernelspec": {
   "display_name": "Python 3 (ipykernel)",
   "language": "python",
   "name": "python3"
  },
  "language_info": {
   "codemirror_mode": {
    "name": "ipython",
    "version": 3
   },
   "file_extension": ".py",
   "mimetype": "text/x-python",
   "name": "python",
   "nbconvert_exporter": "python",
   "pygments_lexer": "ipython3",
   "version": "3.9.18"
  }
 },
 "nbformat": 4,
 "nbformat_minor": 5
}
